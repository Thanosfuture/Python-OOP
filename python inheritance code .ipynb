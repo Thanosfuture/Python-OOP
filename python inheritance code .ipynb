{
 "cells": [
  {
   "cell_type": "code",
   "execution_count": 1,
   "id": "4649bab1",
   "metadata": {},
   "outputs": [
    {
     "name": "stdout",
     "output_type": "stream",
     "text": [
      "kennel\n",
      "bow bow!\n"
     ]
    }
   ],
   "source": [
    "class Animal:\n",
    "    def __init__(self, habitat):\n",
    "        self.habitat =habitat\n",
    "    def print_habitat(self):\n",
    "        print(self.habitat)\n",
    "        \n",
    "    def sound(self):\n",
    "        print(\"animal sound\")\n",
    "        \n",
    "        \n",
    "class dog(Animal):\n",
    "    def __init__(self):\n",
    "        super().__init__(\"kennel\")\n",
    "\n",
    "    def sound(self):\n",
    "        print(\"bow bow!\")\n",
    "        \n",
    "x=dog()\n",
    "x.print_habitat()\n",
    "x.sound()"
   ]
  },
  {
   "cell_type": "code",
   "execution_count": null,
   "id": "2b8be688",
   "metadata": {},
   "outputs": [],
   "source": []
  }
 ],
 "metadata": {
  "kernelspec": {
   "display_name": "Python 3 (ipykernel)",
   "language": "python",
   "name": "python3"
  },
  "language_info": {
   "codemirror_mode": {
    "name": "ipython",
    "version": 3
   },
   "file_extension": ".py",
   "mimetype": "text/x-python",
   "name": "python",
   "nbconvert_exporter": "python",
   "pygments_lexer": "ipython3",
   "version": "3.9.2"
  }
 },
 "nbformat": 4,
 "nbformat_minor": 5
}
